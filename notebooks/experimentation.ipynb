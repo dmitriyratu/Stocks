{
 "cells": [
  {
   "cell_type": "code",
   "execution_count": 1,
   "id": "d4002617-7853-4901-bf15-410a696939b0",
   "metadata": {},
   "outputs": [],
   "source": [
    "from src.flows.news_processing.pipelines.news_pipeline import process_news"
   ]
  },
  {
   "cell_type": "code",
   "execution_count": 2,
   "id": "337e648e-25f7-432c-9c2f-bd245086a760",
   "metadata": {},
   "outputs": [
    {
     "data": {
      "text/html": [
       "<pre style=\"white-space:pre;overflow-x:auto;line-height:normal;font-family:Menlo,'DejaVu Sans Mono',consolas,'Courier New',monospace\">16:44:51.435 | <span style=\"color: #008080; text-decoration-color: #008080\">INFO</span>    | prefect - Starting temporary server on <span style=\"color: #0000ff; text-decoration-color: #0000ff\">http://127.0.0.1:8578</span>\n",
       "See <span style=\"color: #0000ff; text-decoration-color: #0000ff\">https://docs.prefect.io/3.0/manage/self-host#self-host-a-prefect-server</span> for more information on running a dedicated Prefect server.\n",
       "</pre>\n"
      ],
      "text/plain": [
       "16:44:51.435 | \u001b[36mINFO\u001b[0m    | prefect - Starting temporary server on \u001b[94mhttp://127.0.0.1:8578\u001b[0m\n",
       "See \u001b[94mhttps://docs.prefect.io/3.0/manage/self-host#self-host-a-prefect-server\u001b[0m for more information on running a dedicated Prefect server.\n"
      ]
     },
     "metadata": {},
     "output_type": "display_data"
    },
    {
     "data": {
      "text/html": [
       "<pre style=\"white-space:pre;overflow-x:auto;line-height:normal;font-family:Menlo,'DejaVu Sans Mono',consolas,'Courier New',monospace\">16:44:56.870 | <span style=\"color: #008080; text-decoration-color: #008080\">INFO</span>    | Flow run<span style=\"color: #800080; text-decoration-color: #800080\"> 'stirring-angelfish'</span> - Beginning flow run<span style=\"color: #800080; text-decoration-color: #800080\"> 'stirring-angelfish'</span> for flow<span style=\"color: #800080; text-decoration-color: #800080; font-weight: bold\"> 'crypto_news_processing'</span>\n",
       "</pre>\n"
      ],
      "text/plain": [
       "16:44:56.870 | \u001b[36mINFO\u001b[0m    | Flow run\u001b[35m 'stirring-angelfish'\u001b[0m - Beginning flow run\u001b[35m 'stirring-angelfish'\u001b[0m for flow\u001b[1;35m 'crypto_news_processing'\u001b[0m\n"
      ]
     },
     "metadata": {},
     "output_type": "display_data"
    },
    {
     "data": {
      "text/html": [
       "<pre style=\"white-space:pre;overflow-x:auto;line-height:normal;font-family:Menlo,'DejaVu Sans Mono',consolas,'Courier New',monospace\">16:44:57.194 | <span style=\"color: #008080; text-decoration-color: #008080\">INFO</span>    | Task run 'import_news-fe2' - Calling NewsImportEndpoint...\n",
       "</pre>\n"
      ],
      "text/plain": [
       "16:44:57.194 | \u001b[36mINFO\u001b[0m    | Task run 'import_news-fe2' - Calling NewsImportEndpoint...\n"
      ]
     },
     "metadata": {},
     "output_type": "display_data"
    },
    {
     "name": "stdout",
     "output_type": "stream",
     "text": [
      "2025-01-19 16:44:58,464 - ImportNewsEndpoint - INFO - Fetching News...\n",
      "2025-01-19 16:44:58,466 - GetCryptoNews - INFO - Fetching articles between 2025-01-18 and 2025-01-19\n"
     ]
    },
    {
     "data": {
      "application/vnd.jupyter.widget-view+json": {
       "model_id": "1a92b38486b44f78a611b56e5db880be",
       "version_major": 2,
       "version_minor": 0
      },
      "text/plain": [
       "Fetching news:   0%|          | 0/2 [00:00<?, ?it/s]"
      ]
     },
     "metadata": {},
     "output_type": "display_data"
    },
    {
     "name": "stdout",
     "output_type": "stream",
     "text": [
      "2025-01-19 16:44:59,925 - GetCryptoNews - INFO - Fetched 106 out of 106 articles between 2025-01-18 and 2025-01-19\n",
      "2025-01-19 16:45:01,122 - DeltaLakeManager - INFO - Table: raw_data - Persisting data...\n",
      "2025-01-19 16:45:01,361 - DeltaLakeManager - INFO - Table: raw_data - Merged data: 2 rows inserted, 0 rows updated\n",
      "2025-01-19 16:45:01,410 - DeltaLakeManager - INFO - Table: article_status_data - Persisting data...\n",
      "2025-01-19 16:45:01,438 - DeltaLakeManager - INFO - Table: article_status_data - Merged data: 2 rows inserted, 0 rows updated\n",
      "2025-01-19 16:45:01,438 - ImportNewsEndpoint - INFO - Added 2 new entries to status table\n"
     ]
    },
    {
     "data": {
      "text/html": [
       "<pre style=\"white-space:pre;overflow-x:auto;line-height:normal;font-family:Menlo,'DejaVu Sans Mono',consolas,'Courier New',monospace\">16:45:01.438 | <span style=\"color: #008080; text-decoration-color: #008080\">INFO</span>    | Task run 'import_news-fe2' - Import completed: {'status': 'success', 'new_articles': 2, 'date_range': '2025-01-18 to 2025-01-19'}\n",
       "</pre>\n"
      ],
      "text/plain": [
       "16:45:01.438 | \u001b[36mINFO\u001b[0m    | Task run 'import_news-fe2' - Import completed: {'status': 'success', 'new_articles': 2, 'date_range': '2025-01-18 to 2025-01-19'}\n"
      ]
     },
     "metadata": {},
     "output_type": "display_data"
    },
    {
     "data": {
      "text/html": [
       "<pre style=\"white-space:pre;overflow-x:auto;line-height:normal;font-family:Menlo,'DejaVu Sans Mono',consolas,'Courier New',monospace\">16:45:01.448 | <span style=\"color: #008080; text-decoration-color: #008080\">INFO</span>    | Task run 'import_news-fe2' - Finished in state <span style=\"color: #008000; text-decoration-color: #008000\">Completed</span>()\n",
       "</pre>\n"
      ],
      "text/plain": [
       "16:45:01.448 | \u001b[36mINFO\u001b[0m    | Task run 'import_news-fe2' - Finished in state \u001b[32mCompleted\u001b[0m()\n"
      ]
     },
     "metadata": {},
     "output_type": "display_data"
    },
    {
     "data": {
      "text/html": [
       "<pre style=\"white-space:pre;overflow-x:auto;line-height:normal;font-family:Menlo,'DejaVu Sans Mono',consolas,'Courier New',monospace\">16:45:01.671 | <span style=\"color: #008080; text-decoration-color: #008080\">INFO</span>    | Task run 'scrape_articles-89f' - Calling ArticleScrapeEndpoint...\n",
       "</pre>\n"
      ],
      "text/plain": [
       "16:45:01.671 | \u001b[36mINFO\u001b[0m    | Task run 'scrape_articles-89f' - Calling ArticleScrapeEndpoint...\n"
      ]
     },
     "metadata": {},
     "output_type": "display_data"
    },
    {
     "data": {
      "application/vnd.jupyter.widget-view+json": {
       "model_id": "f078f4f115834f3697106320051c2768",
       "version_major": 2,
       "version_minor": 0
      },
      "text/plain": [
       "  0%|          | 0/2 [00:00<?, ?it/s]"
      ]
     },
     "metadata": {},
     "output_type": "display_data"
    },
    {
     "name": "stdout",
     "output_type": "stream",
     "text": [
      "2025-01-19 16:45:03,640 - DeltaLakeManager - INFO - Table: scraped_data - Persisting data...\n",
      "2025-01-19 16:45:04,073 - DeltaLakeManager - INFO - Table: scraped_data - Merged data: 2 rows inserted, 0 rows updated\n",
      "2025-01-19 16:45:04,074 - DeltaLakeManager - INFO - Table: article_status_data - Persisting data...\n",
      "2025-01-19 16:45:04,106 - DeltaLakeManager - INFO - Table: article_status_data - Merged data: 0 rows inserted, 2 rows updated\n",
      "2025-01-19 16:45:04,107 - ArticleScrapeEndpoint - INFO - Successfully persisted 2 articles\n"
     ]
    },
    {
     "data": {
      "text/html": [
       "<pre style=\"white-space:pre;overflow-x:auto;line-height:normal;font-family:Menlo,'DejaVu Sans Mono',consolas,'Courier New',monospace\">16:45:04.108 | <span style=\"color: #008080; text-decoration-color: #008080\">INFO</span>    | Task run 'scrape_articles-89f' - Scraping completed: {'status': 'success', 'articles_scraped': 2, 'successful_scrapes': 2, 'success_rate': '100.0%'}\n",
       "</pre>\n"
      ],
      "text/plain": [
       "16:45:04.108 | \u001b[36mINFO\u001b[0m    | Task run 'scrape_articles-89f' - Scraping completed: {'status': 'success', 'articles_scraped': 2, 'successful_scrapes': 2, 'success_rate': '100.0%'}\n"
      ]
     },
     "metadata": {},
     "output_type": "display_data"
    },
    {
     "data": {
      "text/html": [
       "<pre style=\"white-space:pre;overflow-x:auto;line-height:normal;font-family:Menlo,'DejaVu Sans Mono',consolas,'Courier New',monospace\">16:45:04.111 | <span style=\"color: #008080; text-decoration-color: #008080\">INFO</span>    | Task run 'scrape_articles-89f' - Finished in state <span style=\"color: #008000; text-decoration-color: #008000\">Completed</span>()\n",
       "</pre>\n"
      ],
      "text/plain": [
       "16:45:04.111 | \u001b[36mINFO\u001b[0m    | Task run 'scrape_articles-89f' - Finished in state \u001b[32mCompleted\u001b[0m()\n"
      ]
     },
     "metadata": {},
     "output_type": "display_data"
    },
    {
     "data": {
      "text/html": [
       "<pre style=\"white-space:pre;overflow-x:auto;line-height:normal;font-family:Menlo,'DejaVu Sans Mono',consolas,'Courier New',monospace\">16:45:04.344 | <span style=\"color: #008080; text-decoration-color: #008080\">INFO</span>    | Task run 'clean_articles-44d' - Calling ArticleCleanEndpoint...\n",
       "</pre>\n"
      ],
      "text/plain": [
       "16:45:04.344 | \u001b[36mINFO\u001b[0m    | Task run 'clean_articles-44d' - Calling ArticleCleanEndpoint...\n"
      ]
     },
     "metadata": {},
     "output_type": "display_data"
    },
    {
     "name": "stdout",
     "output_type": "stream",
     "text": [
      "2025-01-19 16:45:07,387 - ArticleCleanEndpoint - INFO - Cleaning Data...\n",
      "2025-01-19 16:45:07,465 - ArticleCleanEndpoint - INFO - Feature Engineering Data...\n",
      "2025-01-19 16:45:07,943 - DeltaLakeManager - INFO - Table: cleaned_data - Persisting data...\n",
      "2025-01-19 16:45:08,423 - DeltaLakeManager - INFO - Table: cleaned_data - Merged data: 2 rows inserted, 0 rows updated\n",
      "2025-01-19 16:45:08,423 - DeltaLakeManager - INFO - Table: article_status_data - Persisting data...\n",
      "2025-01-19 16:45:08,459 - DeltaLakeManager - INFO - Table: article_status_data - Merged data: 0 rows inserted, 2 rows updated\n",
      "2025-01-19 16:45:08,459 - ArticleCleanEndpoint - INFO - Successfully persisted 2 cleaned articles\n"
     ]
    },
    {
     "data": {
      "text/html": [
       "<pre style=\"white-space:pre;overflow-x:auto;line-height:normal;font-family:Menlo,'DejaVu Sans Mono',consolas,'Courier New',monospace\">16:45:08.459 | <span style=\"color: #008080; text-decoration-color: #008080\">INFO</span>    | Task run 'clean_articles-44d' - Cleaning completed: {'status': 'success', 'articles_cleaned': 2}\n",
       "</pre>\n"
      ],
      "text/plain": [
       "16:45:08.459 | \u001b[36mINFO\u001b[0m    | Task run 'clean_articles-44d' - Cleaning completed: {'status': 'success', 'articles_cleaned': 2}\n"
      ]
     },
     "metadata": {},
     "output_type": "display_data"
    },
    {
     "data": {
      "text/html": [
       "<pre style=\"white-space:pre;overflow-x:auto;line-height:normal;font-family:Menlo,'DejaVu Sans Mono',consolas,'Courier New',monospace\">16:45:08.466 | <span style=\"color: #008080; text-decoration-color: #008080\">INFO</span>    | Task run 'clean_articles-44d' - Finished in state <span style=\"color: #008000; text-decoration-color: #008000\">Completed</span>()\n",
       "</pre>\n"
      ],
      "text/plain": [
       "16:45:08.466 | \u001b[36mINFO\u001b[0m    | Task run 'clean_articles-44d' - Finished in state \u001b[32mCompleted\u001b[0m()\n"
      ]
     },
     "metadata": {},
     "output_type": "display_data"
    },
    {
     "data": {
      "text/html": [
       "<pre style=\"white-space:pre;overflow-x:auto;line-height:normal;font-family:Menlo,'DejaVu Sans Mono',consolas,'Courier New',monospace\">16:45:08.509 | <span style=\"color: #008080; text-decoration-color: #008080\">INFO</span>    | Flow run<span style=\"color: #800080; text-decoration-color: #800080\"> 'stirring-angelfish'</span> - Finished in state <span style=\"color: #008000; text-decoration-color: #008000\">Completed</span>()\n",
       "</pre>\n"
      ],
      "text/plain": [
       "16:45:08.509 | \u001b[36mINFO\u001b[0m    | Flow run\u001b[35m 'stirring-angelfish'\u001b[0m - Finished in state \u001b[32mCompleted\u001b[0m()\n"
      ]
     },
     "metadata": {},
     "output_type": "display_data"
    },
    {
     "data": {
      "text/plain": [
       "{'import': {'status': 'success',\n",
       "  'new_articles': 2,\n",
       "  'date_range': '2025-01-18 to 2025-01-19'},\n",
       " 'scrape': {'status': 'success',\n",
       "  'articles_scraped': 2,\n",
       "  'successful_scrapes': 2,\n",
       "  'success_rate': '100.0%'},\n",
       " 'clean': {'status': 'success', 'articles_cleaned': 2}}"
      ]
     },
     "execution_count": 2,
     "metadata": {},
     "output_type": "execute_result"
    }
   ],
   "source": [
    "process_news()"
   ]
  },
  {
   "cell_type": "code",
   "execution_count": null,
   "id": "df117cfa-15c5-4c77-89dd-c684d207b712",
   "metadata": {},
   "outputs": [],
   "source": [
    "from src.collect.news_fetcher import *"
   ]
  },
  {
   "cell_type": "code",
   "execution_count": null,
   "id": "ea044ce7-0842-48ac-8242-964b30854fe2",
   "metadata": {},
   "outputs": [],
   "source": [
    "cls = NewsImportEndpoint()"
   ]
  },
  {
   "cell_type": "code",
   "execution_count": null,
   "id": "7c2e150f-ece3-4f34-9718-fa644b4cc9f2",
   "metadata": {},
   "outputs": [],
   "source": [
    "last_fetch_date = cls._get_last_fetch_date()"
   ]
  },
  {
   "cell_type": "code",
   "execution_count": null,
   "id": "a94d04ab-6835-4671-8d01-064970f06740",
   "metadata": {},
   "outputs": [],
   "source": [
    "start_date = (last_fetch_date - timedelta(days=1))"
   ]
  },
  {
   "cell_type": "code",
   "execution_count": null,
   "id": "9ec930e9-a544-47ea-9b61-afc487178cf1",
   "metadata": {},
   "outputs": [],
   "source": [
    "end_date = pd.Timestamp.now(tz = 'US/Eastern')"
   ]
  },
  {
   "cell_type": "code",
   "execution_count": null,
   "id": "ffdf4740-cb52-4238-be65-54e3195555f9",
   "metadata": {},
   "outputs": [],
   "source": [
    "news_metadata = cls.fetcher.fetch_news(start_date, end_date)"
   ]
  },
  {
   "cell_type": "code",
   "execution_count": null,
   "id": "d03f1943-338a-4b09-adeb-d84d87529ece",
   "metadata": {},
   "outputs": [],
   "source": [
    "existing_articles = cls.deltalake.read_table(\n",
    "    table_name=TableNames.METADATA_ARTICLES.value,\n",
    "    columns=['news_id']\n",
    ")"
   ]
  },
  {
   "cell_type": "code",
   "execution_count": null,
   "id": "60a371c4-2a2a-4e7c-aaf2-50854c6b8e0b",
   "metadata": {},
   "outputs": [],
   "source": [
    "news_metadata = news_metadata[\n",
    "    ~news_metadata['news_id'].isin(existing_articles['news_id'])\n",
    "]"
   ]
  },
  {
   "cell_type": "code",
   "execution_count": null,
   "id": "b7b5cbd6-09ca-4c8e-8d0c-890b84475a00",
   "metadata": {},
   "outputs": [],
   "source": [
    "news_metadata"
   ]
  },
  {
   "cell_type": "code",
   "execution_count": null,
   "id": "dbab5784-df68-49ef-971e-ff8e002b6187",
   "metadata": {},
   "outputs": [],
   "source": [
    "cls.deltalake.write_table(\n",
    "    table_name=TableNames.METADATA_ARTICLES.value,\n",
    "    df=news_metadata\n",
    ")"
   ]
  },
  {
   "cell_type": "code",
   "execution_count": null,
   "id": "7bd798c2-be89-4f83-b121-019e47573cc5",
   "metadata": {},
   "outputs": [],
   "source": [
    "news_metadata2 = cls.deltalake.read_table(\n",
    "    table_name=TableNames.METADATA_ARTICLES.value,\n",
    ")"
   ]
  },
  {
   "cell_type": "code",
   "execution_count": null,
   "id": "8a89fe1b-2642-45b1-aee8-9faeec711358",
   "metadata": {},
   "outputs": [],
   "source": [
    "print(\"Tickers column type:\", type(news_metadata['tickers'].iloc[0]))\n",
    "print(\"Topics column type:\", type(news_metadata['topics'].iloc[0]))"
   ]
  },
  {
   "cell_type": "code",
   "execution_count": null,
   "id": "31aca6bf-edba-4b72-b977-938f6e304d9b",
   "metadata": {},
   "outputs": [],
   "source": [
    "news_metadata2['topics'].iloc[0]"
   ]
  }
 ],
 "metadata": {
  "kernelspec": {
   "display_name": "Python 3.12.6",
   "language": "python",
   "name": "python3.12.6"
  },
  "language_info": {
   "codemirror_mode": {
    "name": "ipython",
    "version": 3
   },
   "file_extension": ".py",
   "mimetype": "text/x-python",
   "name": "python",
   "nbconvert_exporter": "python",
   "pygments_lexer": "ipython3",
   "version": "3.12.6"
  },
  "widgets": {
   "application/vnd.jupyter.widget-state+json": {
    "state": {
     "052a5be4d25c4d63be683068a9bdc3e7": {
      "model_module": "@jupyter-widgets/controls",
      "model_module_version": "2.0.0",
      "model_name": "HTMLModel",
      "state": {
       "layout": "IPY_MODEL_c6239fa1325b45c789c514e18dcb4670",
       "style": "IPY_MODEL_3bfffa0929114e8fa102236d2d5cf6f8",
       "value": " 2/2 [00:00&lt;00:00,  2.13it/s, chunk=2/2, total=2/2 (100.0%)]"
      }
     },
     "131c0eb89eab4075a86af328d78a75bf": {
      "model_module": "@jupyter-widgets/base",
      "model_module_version": "2.0.0",
      "model_name": "LayoutModel",
      "state": {}
     },
     "14161abdec854f4a815e765ce7383fc5": {
      "model_module": "@jupyter-widgets/controls",
      "model_module_version": "2.0.0",
      "model_name": "HTMLStyleModel",
      "state": {
       "description_width": "",
       "font_size": null,
       "text_color": null
      }
     },
     "153a944b8a8b43149eafdcf2a7a819d8": {
      "model_module": "@jupyter-widgets/base",
      "model_module_version": "2.0.0",
      "model_name": "LayoutModel",
      "state": {}
     },
     "1a92b38486b44f78a611b56e5db880be": {
      "model_module": "@jupyter-widgets/controls",
      "model_module_version": "2.0.0",
      "model_name": "HBoxModel",
      "state": {
       "children": [
        "IPY_MODEL_4925996e95d44df781fe08006a9e6db2",
        "IPY_MODEL_6235fbfb0e354d358e4d2a41e3277bfb",
        "IPY_MODEL_49d3947620994e4a9af292fc3b3f152d"
       ],
       "layout": "IPY_MODEL_5a70ecc24a794d56aa326f6b3f3a13c8"
      }
     },
     "31726fc602f2458a9dd0d5653084a750": {
      "model_module": "@jupyter-widgets/controls",
      "model_module_version": "2.0.0",
      "model_name": "ProgressStyleModel",
      "state": {
       "description_width": ""
      }
     },
     "3bfffa0929114e8fa102236d2d5cf6f8": {
      "model_module": "@jupyter-widgets/controls",
      "model_module_version": "2.0.0",
      "model_name": "HTMLStyleModel",
      "state": {
       "description_width": "",
       "font_size": null,
       "text_color": null
      }
     },
     "43bb8d94f86e4d1f9f549e4c90751d23": {
      "model_module": "@jupyter-widgets/base",
      "model_module_version": "2.0.0",
      "model_name": "LayoutModel",
      "state": {}
     },
     "4925996e95d44df781fe08006a9e6db2": {
      "model_module": "@jupyter-widgets/controls",
      "model_module_version": "2.0.0",
      "model_name": "HTMLModel",
      "state": {
       "layout": "IPY_MODEL_131c0eb89eab4075a86af328d78a75bf",
       "style": "IPY_MODEL_14161abdec854f4a815e765ce7383fc5",
       "value": "Fetching news: 100%"
      }
     },
     "49d3947620994e4a9af292fc3b3f152d": {
      "model_module": "@jupyter-widgets/controls",
      "model_module_version": "2.0.0",
      "model_name": "HTMLModel",
      "state": {
       "layout": "IPY_MODEL_43bb8d94f86e4d1f9f549e4c90751d23",
       "style": "IPY_MODEL_cb49dba9a5a94c4bb328be1b31de0b24",
       "value": " 2/2 [00:01&lt;00:00,  1.62it/s]"
      }
     },
     "5a70ecc24a794d56aa326f6b3f3a13c8": {
      "model_module": "@jupyter-widgets/base",
      "model_module_version": "2.0.0",
      "model_name": "LayoutModel",
      "state": {}
     },
     "6235fbfb0e354d358e4d2a41e3277bfb": {
      "model_module": "@jupyter-widgets/controls",
      "model_module_version": "2.0.0",
      "model_name": "FloatProgressModel",
      "state": {
       "bar_style": "success",
       "layout": "IPY_MODEL_adfd7d496a8a4edeb813ab129444aa4c",
       "max": 2,
       "style": "IPY_MODEL_a64581b323914ba896e2bfce74d7b8d3",
       "value": 2
      }
     },
     "72d08612617943f3b467641985d2e0ba": {
      "model_module": "@jupyter-widgets/base",
      "model_module_version": "2.0.0",
      "model_name": "LayoutModel",
      "state": {}
     },
     "738c86d749bb48dbb053cdf14ce7fc3e": {
      "model_module": "@jupyter-widgets/controls",
      "model_module_version": "2.0.0",
      "model_name": "FloatProgressModel",
      "state": {
       "bar_style": "success",
       "layout": "IPY_MODEL_153a944b8a8b43149eafdcf2a7a819d8",
       "max": 2,
       "style": "IPY_MODEL_31726fc602f2458a9dd0d5653084a750",
       "value": 2
      }
     },
     "8d66662a16ef4f9e829ef68162de5296": {
      "model_module": "@jupyter-widgets/controls",
      "model_module_version": "2.0.0",
      "model_name": "HTMLStyleModel",
      "state": {
       "description_width": "",
       "font_size": null,
       "text_color": null
      }
     },
     "a64581b323914ba896e2bfce74d7b8d3": {
      "model_module": "@jupyter-widgets/controls",
      "model_module_version": "2.0.0",
      "model_name": "ProgressStyleModel",
      "state": {
       "description_width": ""
      }
     },
     "a88fe0dbaf8f41088254bb1f68a3e424": {
      "model_module": "@jupyter-widgets/controls",
      "model_module_version": "2.0.0",
      "model_name": "HTMLModel",
      "state": {
       "layout": "IPY_MODEL_e649018e5e6e48a9aab23a6eb2aed0f5",
       "style": "IPY_MODEL_8d66662a16ef4f9e829ef68162de5296",
       "value": "100%"
      }
     },
     "adfd7d496a8a4edeb813ab129444aa4c": {
      "model_module": "@jupyter-widgets/base",
      "model_module_version": "2.0.0",
      "model_name": "LayoutModel",
      "state": {}
     },
     "c6239fa1325b45c789c514e18dcb4670": {
      "model_module": "@jupyter-widgets/base",
      "model_module_version": "2.0.0",
      "model_name": "LayoutModel",
      "state": {}
     },
     "cb49dba9a5a94c4bb328be1b31de0b24": {
      "model_module": "@jupyter-widgets/controls",
      "model_module_version": "2.0.0",
      "model_name": "HTMLStyleModel",
      "state": {
       "description_width": "",
       "font_size": null,
       "text_color": null
      }
     },
     "e649018e5e6e48a9aab23a6eb2aed0f5": {
      "model_module": "@jupyter-widgets/base",
      "model_module_version": "2.0.0",
      "model_name": "LayoutModel",
      "state": {}
     },
     "f078f4f115834f3697106320051c2768": {
      "model_module": "@jupyter-widgets/controls",
      "model_module_version": "2.0.0",
      "model_name": "HBoxModel",
      "state": {
       "children": [
        "IPY_MODEL_a88fe0dbaf8f41088254bb1f68a3e424",
        "IPY_MODEL_738c86d749bb48dbb053cdf14ce7fc3e",
        "IPY_MODEL_052a5be4d25c4d63be683068a9bdc3e7"
       ],
       "layout": "IPY_MODEL_72d08612617943f3b467641985d2e0ba"
      }
     }
    },
    "version_major": 2,
    "version_minor": 0
   }
  }
 },
 "nbformat": 4,
 "nbformat_minor": 5
}
