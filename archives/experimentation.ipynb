{
 "cells": [
  {
   "cell_type": "code",
   "execution_count": 1,
   "id": "a54637d9-56ae-40b4-963f-80cc5fe6a01a",
   "metadata": {},
   "outputs": [],
   "source": [
    "import threading"
   ]
  },
  {
   "cell_type": "code",
   "execution_count": 2,
   "id": "eb9ef125-410a-4f4c-b1ff-800229fd915f",
   "metadata": {},
   "outputs": [
    {
     "data": {
      "text/plain": [
       "6"
      ]
     },
     "execution_count": 2,
     "metadata": {},
     "output_type": "execute_result"
    }
   ],
   "source": [
    "threading.active_count()"
   ]
  },
  {
   "cell_type": "code",
   "execution_count": 83,
   "id": "59dc01b3-389b-4e82-acd0-ba91f6c718f5",
   "metadata": {},
   "outputs": [],
   "source": [
    "content"
   ]
  },
  {
   "cell_type": "code",
   "execution_count": 3,
   "id": "8b0ed887-caa9-4930-8fca-c8ca01eefbc5",
   "metadata": {},
   "outputs": [],
   "source": [
    "from collect.utils.utils_url_scraper import PowerScraper"
   ]
  },
  {
   "cell_type": "code",
   "execution_count": 18,
   "id": "e4b3c6d2-8985-4c09-a318-702e6b57dee7",
   "metadata": {},
   "outputs": [],
   "source": [
    "url = 'https://www.coindesk.com/markets/2024/12/20/lo'"
   ]
  },
  {
   "cell_type": "code",
   "execution_count": 20,
   "id": "00920773-6443-4bfd-b78f-3ca8c352b936",
   "metadata": {},
   "outputs": [
    {
     "data": {
      "text/plain": [
       "ScrapingResult(url='https://www.coindesk.com/markets/2024/12/20/lo', full_text=None, status_code=404, error='404 Client Error: Not Found for url: https://www.coindesk.com/markets/2024/12/20/lo', success=False, elapsed_time=0.31003079999936745)"
      ]
     },
     "execution_count": 20,
     "metadata": {},
     "output_type": "execute_result"
    }
   ],
   "source": [
    "scraper = PowerScraper()\n",
    "scraper.scrape_url(url)"
   ]
  },
  {
   "cell_type": "code",
   "execution_count": null,
   "id": "5ea35da1-a78d-487a-8979-1987a033a503",
   "metadata": {},
   "outputs": [],
   "source": []
  },
  {
   "cell_type": "code",
   "execution_count": null,
   "id": "3ef5f381-4b73-4ad0-a233-5e3e97f1f3be",
   "metadata": {},
   "outputs": [],
   "source": []
  }
 ],
 "metadata": {
  "kernelspec": {
   "display_name": "Python 3 (ipykernel)",
   "language": "python",
   "name": "python3"
  },
  "language_info": {
   "codemirror_mode": {
    "name": "ipython",
    "version": 3
   },
   "file_extension": ".py",
   "mimetype": "text/x-python",
   "name": "python",
   "nbconvert_exporter": "python",
   "pygments_lexer": "ipython3",
   "version": "3.12.6"
  },
  "widgets": {
   "application/vnd.jupyter.widget-state+json": {
    "state": {},
    "version_major": 2,
    "version_minor": 0
   }
  }
 },
 "nbformat": 4,
 "nbformat_minor": 5
}
