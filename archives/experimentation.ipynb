{
 "cells": [
  {
   "cell_type": "code",
   "execution_count": 3,
   "id": "8b0ed887-caa9-4930-8fca-c8ca01eefbc5",
   "metadata": {},
   "outputs": [],
   "source": [
    "from collect.utils.utils_url_scraper import PowerScraper"
   ]
  },
  {
   "cell_type": "code",
   "execution_count": 22,
   "id": "e4b3c6d2-8985-4c09-a318-702e6b57dee7",
   "metadata": {},
   "outputs": [],
   "source": [
    "url = 'https://decrypt.co/298231/bitcoin-tumble-triggered-1-4-billion-in-liquidations'"
   ]
  },
  {
   "cell_type": "code",
   "execution_count": 26,
   "id": "00920773-6443-4bfd-b78f-3ca8c352b936",
   "metadata": {
    "collapsed": true,
    "jupyter": {
     "outputs_hidden": true
    }
   },
   "outputs": [
    {
     "data": {
      "text/plain": [
       "ScrapingResult(news_url='https://decrypt.co/298231/bitcoin-tumble-triggered-1-4-billion-in-liquidations', full_text=\"Rough total liquidations on Coinglass for the past 3 weeks is almost $10billion (from Cex's)\\nI remember Cat saying on December 9/10th that the total real liquidations were more like $10billion, 1/10th of real numbers.\\nIf that's correct then we have probably seen the largest liq‚Ä¶ pic.twitter.com/fZkR7YiG16\\n‚Äî Pat (@PattaTrades) December 20, 2024\\nCoin Prices\\n$92,402.00\\n-0.76%$3,338.17\\n0.06%$2.07\\n-0.96%$699.25\\n1.17%$190.47\\n0.40%$0.312743\\n-0.08%$1.001\\n0.13%$3,329.82\\n0.02%$0.855419\\n0.11%$0.252295\\n-1.98%$36.03\\n0.96%$5.57\\n-0.40%$3,971.31\\n-0.42%$20.53\\n-1.56%$0.00002106\\n-1.67%$4.17\\n2.92%$92,269.00\\n-1.07%$0.279009\\n0.83%$6.68\\n-2.47%$0.332472\\n-1.54%$3,337.61\\n-0.00%$26.81\\n-0.88%$6.29\\n-0.90%$442.95\\n1.15%$9.04\\n-0.00%$13.20\\n2.46%$0.00001804\\n1.50%$98.98\\n1.63%$3,547.01\\n0.72%$0.998601\\n0.15%$5.04\\n-1.26%$1.003\\n0.32%$8.85\\n0.15%$325.35\\n-0.85%$9.99\\n-0.73%$1.20\\n0.49%$0.460628\\n-0.71%$0.140855\\n-1.37%$25.35\\n-0.28%$0.04383228\\n-2.63%$24.55\\n-0.44%$3.53\\n-3.20%$6.83\\n0.46%$189.08\\n-1.29%$1.28\\n-0.67%$451.15\\n-0.72%$3.42\\n-7.07%$0.729976\\n-1.84%$4.91\\n-0.39%$49.79\\n0.64%$0.115769\\n0.51%$0.962249\\n4.84%$0.334535\\n3.62%$6.34\\n1.22%$1.83\\n1.63%$29.85\\n-10.84%$2.32\\n0.36%$0.00003075\\n0.00%$1.35\\n0.32%$1.49\\n-4.86%$4.75\\n0.62%$1.001\\n0.22%$0.925798\\n-4.23%$3,339.85\\n0.02%$15.84\\n0.51%$1.37\\n-1.45%$0.703249\\n-9.49%$0.03087609\\n-2.90%$19.94\\n-0.99%$0.203813\\n-0.49%$1.84\\n0.79%$1.66\\n44.48%$1.001\\n0.08%$3,745.22\\n-0.03%$2.07\\n-2.12%$0.401828\\n-1.92%$0.00017267\\n0.85%$3,445.00\\n0.06%$1.85\\n5.60%$92,055.00\\n-1.31%$0.03237758\\n-2.50%$107.45\\n-5.37%$4.53\\n-0.29%$3,508.29\\n-0.09%$92,575.00\\n-0.97%$3.42\\n1.26%$0.03441128\\n-0.64%$4.88\\n0.02%$1.37\\n1.13%$0.02514963\\n-0.67%$0.02580972\\n-0.50%$1,492.26\\n-0.19%$0.545819\\n-0.51%$0.361498\\n-2.73%$10.73\\n-4.05%$1.27\\n-5.25%$195.02\\n0.51%$92,358.00\\n-0.95%$0.118557\\n-3.55%$0.772699\\n-0.43%$0.926987\\n-0.26%$0.198516\\n0.09%$3,425.45\\n-0.29%$33.40\\n1.85%$0.710278\\n1.18%$16.64\\n3.39%$0.805412\\n0.58%$1.50\\n1.16%$0.469959\\n-1.20%$5.99\\n-7.73%$236.51\\n-0.35%$0.069602\\n-2.42%$0.288967\\n-0.94%$52.00\\n-0.10%$1.41\\n-4.92%$0.00000105\\n-2.99%$13.90\\n-0.04%$6.22\\n-0.87%$1.046\\n-3.23%$34.18\\n0.39%$57.51\\n-4.87%$3.27\\n0.85%$92,297.00\\n-0.53%$0.788316\\n-2.41%$0.477853\\n-0.62%$0.458733\\n-1.01%$0.877143\\n5.75%$1.21\\n1.28%$15.12\\n16.10%$699.25\\n1.01%$5.12\\n-1.62%$3,330.88\\n0.06%$0.291825\\n2.66%$0.00000209\\n0.00%$0.864019\\n-4.53%$92,408.00\\n-0.64%$3,342.92\\n0.24%$3.66\\n10.80%$0.08369\\n-0.00%$0.996198\\n-0.07%$0.764768\\n5.87%$0.157637\\n0.47%$3,342.35\\n0.21%$0.01352469\\n-6.13%$202.71\\n0.05%$2.51\\n0.14%$272.62\\n-0.66%$0.191529\\n0.14%$0.584986\\n-0.70%$2.84\\n-1.28%$1.85\\n-1.75%$13.37\\n11.05%$0.312397\\n-0.31%$0.00003388\\n-1.50%$75.66\\n-1.42%$1.98\\n-0.97%$1.50\\n1.24%$0.669145\\n13.24%$0.996309\\n0.18%$3,510.52\\n-0.10%$2,608.82\\n-0.52%$0.00763975\\n-1.05%$92,714.00\\n-0.02%$0.00620576\\n-0.33%$0.00916756\\n-1.61%$0.065625\\n-7.30%$1.39\\n-4.32%$1.026\\n0.29%$0.671465\\n-3.70%$0.000108\\n-1.53%$0.00653223\\n3.75%$0.00575368\\n-3.11%$0.085427\\n-3.82%$3,617.66\\n-0.02%$5.12\\n-1.92%$1.002\\n0.25%$26.66\\n2.08%$2.28\\n-0.57%$15.10\\n-5.12%$0.079254\\n0.77%$0.390238\\n0.28%$33.95\\n-1.50%$0.539281\\n6.42%$0.534305\\n39.43%$2,626.56\\n-0.77%$16.94\\n-11.36%$0.00000052\\n-1.89%$0.247247\\n0.28%$0.01128957\\n-1.82%$0.993246\\n-3.73%$0.51359\\n-7.34%$0.997081\\n0.24%$0.00\\n-0.63%$92,396.00\\n-0.70%$1.026\\n0.07%$3,374.51\\n1.44%$1.002\\n0.40%$0.457878\\n-1.14%$91,875.00\\n0.35%$1.16\\n0.61%$3,329.79\\n-0.27%$1.43\\n-1.56%$38.70\\n-2.26%$2.93\\n3.85%$0.460955\\n15.76%$2.09\\n6.30%$0.060865\\n-0.92%$1.073\\n0.15%$1.081\\n-3.37%$27.71\\n-4.66%$3,503.81\\n0.54%$0.064308\\n-0.42%$3,589.87\\n0.10%$0.00580629\\n0.80%$92,029.00\\n-1.20%$0.0062153\\n0.88%$3,325.14\\n-0.33%$0.00237865\\n-0.02%$0.26407\\n-10.67%$0.159259\\n-5.71%$4.15\\n-0.96%$3.18\\n-6.73%$1.086\\n1.04%$0.997346\\n0.38%$0.02078247\\n0.29%$0.00094907\\n4.11%$0.389561\\n-0.78%$0.211976\\n1.03%$0.461948\\n-0.22%$1.001\\n0.10%$4.97\\n0.21%$0.21744\\n-0.19%$4.70\\n-2.84%$0.00488093\\n-4.85%$0.00000018\\n3.16%$0.03744921\\n-2.79%$3,690.87\\n0.01%$82.05\\n0.42%$1.004\\n0.27%$0.908263\\n-5.40%$0.655821\\n0.50%$0.01062981\\n0.25%$2.80\\n-0.40%$0.0380263\\n1.30%$0.358641\\n-0.39%$3.29\\n-0.53%$0.0623\\n-2.08%$0.234445\\n-1.08%\", status_code=200, error=None, success=True, elapsed_time=3.624405000009574)"
      ]
     },
     "execution_count": 26,
     "metadata": {},
     "output_type": "execute_result"
    }
   ],
   "source": [
    "scraper = PowerScraper()\n",
    "output = scraper.scrape_url(url)\n",
    "scraper.cleanup()"
   ]
  },
  {
   "cell_type": "code",
   "execution_count": 4,
   "id": "f411eef3-7651-4b09-93d9-8a4d6c72598a",
   "metadata": {},
   "outputs": [],
   "source": [
    "from clean.utils.utils_text_post_processor import TextProcessor"
   ]
  },
  {
   "cell_type": "code",
   "execution_count": 44,
   "id": "93f8b706-d469-400a-a4ca-a7be357f3fb4",
   "metadata": {},
   "outputs": [],
   "source": [
    "text_process = TextProcessor()"
   ]
  },
  {
   "cell_type": "code",
   "execution_count": 75,
   "id": "e26274c7-2204-4eae-8c75-3ae4ac1d4edb",
   "metadata": {},
   "outputs": [],
   "source": [
    "max_tokens = 1000\n",
    "token_count = 5237"
   ]
  },
  {
   "cell_type": "code",
   "execution_count": 76,
   "id": "2b925720-95cc-4d51-a1c2-b09b2ebbc036",
   "metadata": {},
   "outputs": [],
   "source": [
    "compression_ratio = max_tokens / token_count"
   ]
  },
  {
   "cell_type": "code",
   "execution_count": 78,
   "id": "ce2dcb97-98bf-4fe0-86f0-c0aecf146229",
   "metadata": {},
   "outputs": [],
   "source": [
    "sentences = sent_tokenize(text)"
   ]
  },
  {
   "cell_type": "code",
   "execution_count": 84,
   "id": "bb543cbc-9265-464b-b35c-04ee375c62be",
   "metadata": {},
   "outputs": [
    {
     "data": {
      "text/plain": [
       "213"
      ]
     },
     "execution_count": 84,
     "metadata": {},
     "output_type": "execute_result"
    }
   ],
   "source": [
    "len(sentences)"
   ]
  },
  {
   "cell_type": "code",
   "execution_count": 85,
   "id": "7ab77b13-75e3-4a95-a136-78f540b0940e",
   "metadata": {},
   "outputs": [],
   "source": [
    "num_sentences_to_keep = max(1, math.floor(len(sentences) * compression_ratio))"
   ]
  },
  {
   "cell_type": "code",
   "execution_count": 88,
   "id": "24c5cccd-986d-4271-b3d6-cdcce0ed2bf2",
   "metadata": {},
   "outputs": [],
   "source": [
    "sentence_embeddings = model.encode(sentences)\n",
    "similarity_matrix = util.pytorch_cos_sim(sentence_embeddings, sentence_embeddings)\n",
    "centrality_scores = similarity_matrix.sum(dim=1).cpu().numpy()"
   ]
  },
  {
   "cell_type": "code",
   "execution_count": 89,
   "id": "96979341-697c-4226-9288-6885bbbc0dd3",
   "metadata": {},
   "outputs": [],
   "source": [
    "ranked_indices = centrality_scores.argsort()[::-1]"
   ]
  },
  {
   "cell_type": "code",
   "execution_count": 92,
   "id": "77ec1be3-7f87-4e15-9313-7d21d360fb11",
   "metadata": {},
   "outputs": [],
   "source": [
    "top_indices = ranked_indices[:num_sentences_to_keep]"
   ]
  },
  {
   "cell_type": "code",
   "execution_count": 94,
   "id": "80994ec7-16c0-4226-afa1-9c858597eae2",
   "metadata": {},
   "outputs": [],
   "source": [
    "top_sentences = [sentences[i] for i in sorted(top_indices)]"
   ]
  },
  {
   "cell_type": "code",
   "execution_count": 98,
   "id": "65712146-c09a-4143-97f2-156c9ed552b5",
   "metadata": {},
   "outputs": [
    {
     "data": {
      "text/plain": [
       "1467.0"
      ]
     },
     "execution_count": 98,
     "metadata": {},
     "output_type": "execute_result"
    }
   ],
   "source": [
    "sum([len(i) for i in top_sentences])/4"
   ]
  }
 ],
 "metadata": {
  "kernelspec": {
   "display_name": "Python 3 (ipykernel)",
   "language": "python",
   "name": "python3"
  },
  "language_info": {
   "codemirror_mode": {
    "name": "ipython",
    "version": 3
   },
   "file_extension": ".py",
   "mimetype": "text/x-python",
   "name": "python",
   "nbconvert_exporter": "python",
   "pygments_lexer": "ipython3",
   "version": "3.12.6"
  },
  "widgets": {
   "application/vnd.jupyter.widget-state+json": {
    "state": {},
    "version_major": 2,
    "version_minor": 0
   }
  }
 },
 "nbformat": 4,
 "nbformat_minor": 5
}
