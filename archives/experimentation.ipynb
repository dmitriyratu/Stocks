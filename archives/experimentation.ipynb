{
 "cells": [
  {
   "cell_type": "code",
   "execution_count": 1,
   "id": "a54637d9-56ae-40b4-963f-80cc5fe6a01a",
   "metadata": {},
   "outputs": [],
   "source": [
    "import threading"
   ]
  },
  {
   "cell_type": "code",
   "execution_count": 2,
   "id": "eb9ef125-410a-4f4c-b1ff-800229fd915f",
   "metadata": {},
   "outputs": [
    {
     "data": {
      "text/plain": [
       "6"
      ]
     },
     "execution_count": 2,
     "metadata": {},
     "output_type": "execute_result"
    }
   ],
   "source": [
    "threading.active_count()"
   ]
  },
  {
   "cell_type": "code",
   "execution_count": 87,
   "id": "23012f90-979e-44d4-8ec6-7f180a12669e",
   "metadata": {
    "scrolled": true
   },
   "outputs": [
    {
     "data": {
      "text/plain": [
       "\"We Need In-Kind Redemptions For The Spot Bitcoin ETFs\\nOn a recent episode of the Coinage podcast, guest SEC Commissioner Hester Peirce said that she is open to reconsidering in-kind redemptions for spot bitcoin ETFs.\\n(For those who aren’t familiar with the term “in-kind redemption,” it refers to the ability to withdraw the bitcoin you’ve purchased via an ETF into your own custody. In essence, it turns a bitcoin IOU into the real thing.)\\nThis makes my heart happy, as bitcoin wasn’t designed to exist trapped within the wrappers of the old system. It was built to set us free from that system.\\nIf Peirce can work with the incoming SEC Chair, Paul Atkins, to facilitate the approval of in-kind redemptions then the spot bitcoin ETFs can serve as some of the biggest on-ramps to Bitcoin, as Bitwise co-founder Hong Kim put it, as opposed to simply existing as speculation vehicles.\\nBitcoin was born to exist in the wild. It wasn’t born to exist in a Wall Street zoo.\\nIn-kind redemptions would allow the bitcoin currently trapped within the zoo the ability to return to its natural habitat.\\nThis article is a Take. Opinions expressed are entirely the author's and do not necessarily reflect those of BTC Inc or Bitcoin Magazine.\""
      ]
     },
     "execution_count": 87,
     "metadata": {},
     "output_type": "execute_result"
    }
   ],
   "source": [
    "import trafilatura\n",
    "import cloudscraper\n",
    "\n",
    "scraper = cloudscraper.create_scraper(\n",
    "        browser={\n",
    "            'browser': 'chrome',\n",
    "            'platform': 'windows',\n",
    "            'mobile': False,\n",
    "            'desktop': True\n",
    "        },\n",
    "        debug=False,\n",
    "        delay=10,  # Randomized delay\n",
    "        interpreter='nodejs',  # Use NodeJS interpreter for better JS handling\n",
    "        allow_brotli=False,\n",
    "    )\n",
    "\n",
    "headers = {\n",
    "    'User-Agent': 'Mozilla/5.0 (Windows NT 10.0; Win64; x64; rv:109.0) Gecko/20100101 Firefox/115.0',\n",
    "    'Accept': 'text/html,application/xhtml+xml,application/xml;q=0.9,image/avif,image/webp,*/*;q=0.8',\n",
    "    'Accept-Language': 'en-US,en;q=0.5',\n",
    "    'Accept-Encoding': 'gzip, deflate',\n",
    "    'DNT': '1',\n",
    "    'Connection': 'keep-alive',\n",
    "    'Upgrade-Insecure-Requests': '1'\n",
    "}\n",
    "\n",
    "url = \"https://bitcoinmagazine.com/takes/we-need-in-kind-redemptions-for-the-spot-bitcoin-etfs\"\n",
    "response = scraper.get(url, headers=headers)\n",
    "content = trafilatura.extract(\n",
    "    response.text,\n",
    "    include_comments=False,\n",
    "    include_tables=False,\n",
    "    include_links=False,\n",
    "    no_fallback=False,\n",
    ")\n",
    "content"
   ]
  },
  {
   "cell_type": "code",
   "execution_count": 83,
   "id": "59dc01b3-389b-4e82-acd0-ba91f6c718f5",
   "metadata": {},
   "outputs": [],
   "source": [
    "content"
   ]
  },
  {
   "cell_type": "code",
   "execution_count": 64,
   "id": "8b0ed887-caa9-4930-8fca-c8ca01eefbc5",
   "metadata": {},
   "outputs": [],
   "source": [
    "from collect.utils.utils_url_scraper import PowerScraper"
   ]
  },
  {
   "cell_type": "code",
   "execution_count": 88,
   "id": "00920773-6443-4bfd-b78f-3ca8c352b936",
   "metadata": {},
   "outputs": [
    {
     "data": {
      "text/plain": [
       "ScrapingResult(url='https://bitcoinmagazine.com/takes/we-need-in-kind-redemptions-for-the-spot-bitcoin-etfs', content=\"We Need In-Kind Redemptions For The Spot Bitcoin ETFs\\nOn a recent episode of the Coinage podcast, guest SEC Commissioner Hester Peirce said that she is open to reconsidering in-kind redemptions for spot bitcoin ETFs.\\n(For those who aren’t familiar with the term “in-kind redemption,” it refers to the ability to withdraw the bitcoin you’ve purchased via an ETF into your own custody. In essence, it turns a bitcoin IOU into the real thing.)\\nThis makes my heart happy, as bitcoin wasn’t designed to exist trapped within the wrappers of the old system. It was built to set us free from that system.\\nIf Peirce can work with the incoming SEC Chair, Paul Atkins, to facilitate the approval of in-kind redemptions then the spot bitcoin ETFs can serve as some of the biggest on-ramps to Bitcoin, as Bitwise co-founder Hong Kim put it, as opposed to simply existing as speculation vehicles.\\nBitcoin was born to exist in the wild. It wasn’t born to exist in a Wall Street zoo.\\nIn-kind redemptions would allow the bitcoin currently trapped within the zoo the ability to return to its natural habitat.\\nThis article is a Take. Opinions expressed are entirely the author's and do not necessarily reflect those of BTC Inc or Bitcoin Magazine.\", status_code=200, error=None, success=True)"
      ]
     },
     "execution_count": 88,
     "metadata": {},
     "output_type": "execute_result"
    }
   ],
   "source": [
    "scraper = PowerScraper()\n",
    "scraper.scrape_url(url)"
   ]
  },
  {
   "cell_type": "code",
   "execution_count": null,
   "id": "38e8e6e4-a170-45d4-83b0-b1c503420c74",
   "metadata": {},
   "outputs": [],
   "source": []
  }
 ],
 "metadata": {
  "kernelspec": {
   "display_name": "Python 3 (ipykernel)",
   "language": "python",
   "name": "python3"
  },
  "language_info": {
   "codemirror_mode": {
    "name": "ipython",
    "version": 3
   },
   "file_extension": ".py",
   "mimetype": "text/x-python",
   "name": "python",
   "nbconvert_exporter": "python",
   "pygments_lexer": "ipython3",
   "version": "3.12.6"
  },
  "widgets": {
   "application/vnd.jupyter.widget-state+json": {
    "state": {},
    "version_major": 2,
    "version_minor": 0
   }
  }
 },
 "nbformat": 4,
 "nbformat_minor": 5
}
