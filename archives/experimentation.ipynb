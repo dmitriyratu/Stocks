{
 "cells": [
  {
   "cell_type": "code",
   "execution_count": 1,
   "id": "f5459015-84af-45dd-9c0a-1f7c61b6e3ed",
   "metadata": {},
   "outputs": [],
   "source": [
    "from clean.utils.utils_text_summarizer import TextSummarizer"
   ]
  },
  {
   "cell_type": "code",
   "execution_count": 2,
   "id": "1e0bf6f6-1ad8-401f-855c-4aa694dc937f",
   "metadata": {},
   "outputs": [],
   "source": [
    "summarizer = TextSummarizer()"
   ]
  },
  {
   "cell_type": "code",
   "execution_count": 251,
   "id": "d0716069-5eb5-45f6-8d3e-a077994c9bc4",
   "metadata": {},
   "outputs": [],
   "source": [
    "text = 'Bitcoin (BTC) continued its northward journey on Dec. 16, signaling continued demand from the bulls. Material Indicators co-founder Keith Alan said in a post on X that historically, Bitcoin makes \"MACRO moves\" at or around Dec. 17. He expects a rate cut by the Federal Reserve to boost Bitcoin\\'s prices higher but added that he will wait on the sidelines until more clarity emerges. ZK Square chief investment officer CK Zheng told Cointelegraph that Bitcoin may have entered \"Santa Claus mode,\" with investors looking to allocate capital, fearing missing out on the rally. He expects Bitcoin to reach $125,000 in early 2025 but anticipates a 30% correction afterward. Undeterred by the possibility of a correction, MicroStrategy announced a fresh purchase of 15,350 Bitcoin between Dec. 9 and 15 at an average price of $100,386. That increased the firm\\'s total holding to 439,000 Bitcoin, acquired at an average price of $61,725. Will Bitcoin\\'s rally continue pulling select altcoins higher, or is it time for a correction to set in? Let\\'s analyze the charts to find out. S&P 500 Index price analysis The S&P 500 Index (SPX) is facing resistance near 6,100, but a positive sign is that the bulls have not ceded much ground to the bears. If the price turns up from the current level or rebounds off the 20-day exponential moving average (6,020), the bulls will attempt to push the price to the resistance line. This is an important level to keep an eye on because a break above it will invalidate the bearish rising wedge setup. The index may then rally to 6,221 and eventually to 6,500. If bears want to make a comeback, they will have to yank the price below the 50-day simple moving average (5,912). That will complete the bearish pattern, clearing the path for a fall to 5,670. US dollar Index price analysis The US dollar Index (DXY) is attempting to rise toward the overhead resistance of 108, where the bears are expected to pose a substantial challenge. If the price turns down from the current level or the overhead resistance and breaks below the 20-day EMA (106.30), it will signal a possible range formation in the near term. The index may swing between 105.42 and 108 for a while. A break and close below 105.42 will bring the large 101 to 108 range into play. On the contrary, a break above 108 will signal the start of a new move. The index may then rally to 114. Bitcoin price analysis Bitcoin is in a strong uptrend. The bulls pushed the price to a new all-time high above $104,088 on Dec. 15. The BTC/USDT pair has reached the resistance line of the ascending channel pattern, where the bears are expected to mount a strong defense. However, if buyers overcome the resistance, the pair could surge to $113,331 and thereafter to $125,000. Instead, if the price turns down from the resistance line and breaks below the 20-day EMA ($98,920), it will suggest selling on rallies. The pair may then slide to the channel\\'s support line. Sellers will have to pull the price below the support line to make a comeback in the short term. Ether price analysis Ether (ETH) has been gradually climbing toward $4,094, where the bulls are expected to encounter stiff resistance from the bears. The upsloping moving averages and the RSI above 61 suggest that the path of least resistance is to the upside. If buyers pierce the $4,094 resistance, the ETH/USDT pair could surge to $4,500. The bullish prospects remain intact as long as the price stays above the 20-day EMA ($3,747). The first sign of weakness will be a break and close below the 20-day EMA. Such a move will indicate that the bulls have given up. That could sink the pair to the vital support at the downtrend line. XRP price analysis XRP (XRP) closed above the downtrend line on Dec. 15, but the bulls are struggling to push the price higher. The bears are trying to pull the price to the 20-day EMA ($2.18), a critical support to watch out for in the near term. If the price rebounds off the 20-day EMA, the bulls will again attempt to kick the XRP/USDT pair to $2.64 and then to $2.91. On the other hand, a break below the 20-day EMA will suggest that the bears are making a comeback. The pair may collapse to the 61.8% Fibonacci retracement level of $1.90, where buyers are expected to step in. Solana price analysis Solana (SOL) has been getting squeezed between the moving averages for the past few days, setting up for a possible breakout. If the price breaks and sustains below the 50-day SMA ($216), it will signal that the bears are trying to take charge. The pair may tumble to the support line, which is an essential level for the bulls to defend. If the price rebounds off the 50-day SMA with force, the bulls will again attempt to shove the SOL/USDT pair above the resistance line. If they manage to do that, the pair may climb to $248 and eventually to $264, where the bears are expected to mount a strong defense. BNB price analysis BNB (BNB) has been consolidating near the $722 overhead resistance, indicating that the bulls have kept up the pressure. The rising moving averages and the RSI just above the midpoint suggest buyers have a slight edge. If bulls push the price above $722, the BNB/USDT pair could rise to $761 and then to $794. If bears want to prevent the upside, they will have to swiftly tug the price below the 20-day EMA ($696). That could tempt short-term buyers to book profits, pulling the pair to the 50-day SMA ($645). Related: How high can Bitcoin price go? Dogecoin price analysis Dogecoin (DOGE) is witnessing a tough battle between the bulls and the bears near the support line of the ascending channel pattern. The flattening 20-day EMA ($0.40) and the RSI near the midpoint do not give a clear advantage either to the bulls or the bears. If the price rises above $0.43, the advantage will tilt in favor of the bulls. That could push the DOGE/USDT pair toward $0.48 and subsequently to the channel\\'s resistance line. Contrarily, a break and close below $0.36 could suggest the start of a deeper correction. The pair may drop to the 50-day SMA ($0.34), which is a crucial level for the bulls to defend. If this level gives way, the pair may skid to $0.29. Cardano price analysis Buyers are trying to keep Cardano (ADA) above the 20-day EMA ($1.06), but failing to start a strong rebound increases the risk of a fall. If the 20-day EMA cracks, the ADA/USDT pair could slide to solid support at $0.90. The flattish 20-day EMA and the RSI just above the midpoint suggest a consolidation in the near term. The pair may swing between $0.90 and $1.20 for some time. Buyers will have to propel the price above $1.20 to gain strength. The pair may rise to $1.25 and, after that, to $1.33. Conversely, a break below $0.90 could sink the pair to the 50-day SMA ($0.80). Avalanche price analysis The bears tried to pull Avalanche (AVAX) below the 20-day EMA ($47.80) on Dec. 15, but the bulls held their ground. However, the failure of the bulls to maintain the price above $51 on Dec. 16 has attracted another round of selling. The bears are trying to sink the AVAX/USDT pair below the 20-day EMA. If they manage to do that, the pair could tumble to the 50-day SMA ($38.69). If buyers want to prevent the downside, they will have to quickly push the price back above $51. That would indicate buying at lower levels, increasing the possibility of a break above $56. The pair may rally to $60 and later to $65, where the bears are expected to pose a strong challenge. This article does not contain investment advice or recommendations. Every investment and trading move involves risk, and readers should conduct their own research when making a decision.'"
   ]
  },
  {
   "cell_type": "code",
   "execution_count": 254,
   "id": "d34fd987-0df2-45d4-a1ad-9dd5771e74e0",
   "metadata": {},
   "outputs": [
    {
     "data": {
      "text/plain": [
       "'Bitcoin (BTC) continued its northward journey on Dec. 16, signaling continued demand from the bulls. Material Indicators co-founder Keith Alan said in a post on X that historically, Bitcoin makes \"MACRO moves\" at or around Dec. 17. He expects a rate cut by the Federal Reserve to boost Bitcoin\\'s prices higher but added that he will wait on the sidelines until more clarity emerges. Undeterred by the possibility of a correction, MicroStrategy announced a fresh purchase of 15,350 Bitcoin between Dec. 9 and 15 at an average price of $100,386. S&P 500 Index price analysis The S&P 500 Index (SPX) is facing resistance near 6,100, but a positive sign is that the bulls have not ceded much ground to the bears. If the price turns up from the current level or rebounds off the 20-day exponential moving average (6,020), the bulls will attempt to push the price to the resistance line. If bears want to make a comeback, they will have to yank the price below the 50-day simple moving average (5,912). US dollar Index price analysis The US dollar Index (DXY) is attempting to rise toward the overhead resistance of 108, where the bears are expected to pose a substantial challenge. If the price turns down from the current level or the overhead resistance and breaks below the 20-day EMA (106.30), it will signal a possible range formation in the near term. The BTC/USDT pair has reached the resistance line of the ascending channel pattern, where the bears are expected to mount a strong defense. However, if buyers overcome the resistance, the pair could surge to $113,331 and thereafter to $125,000. Instead, if the price turns down from the resistance line and breaks below the 20-day EMA ($98,920), it will suggest selling on rallies. Sellers will have to pull the price below the support line to make a comeback in the short term. Ether price analysis Ether (ETH) has been gradually climbing toward $4,094, where the bulls are expected to encounter stiff resistance from the bears. XRP price analysis XRP (XRP) closed above the downtrend line on Dec. 15, but the bulls are struggling to push the price higher. The bears are trying to pull the price to the 20-day EMA ($2.18), a critical support to watch out for in the near term. If the price rebounds off the 20-day EMA, the bulls will again attempt to kick the XRP/USDT pair to $2.64 and then to $2.91. If the price breaks and sustains below the 50-day SMA ($216), it will signal that the bears are trying to take charge. If the price rebounds off the 50-day SMA with force, the bulls will again attempt to shove the SOL/USDT pair above the resistance line. If they manage to do that, the pair may climb to $248 and eventually to $264, where the bears are expected to mount a strong defense. BNB price analysis BNB (BNB) has been consolidating near the $722 overhead resistance, indicating that the bulls have kept up the pressure. If bulls push the price above $722, the BNB/USDT pair could rise to $761 and then to $794. If bears want to prevent the upside, they will have to swiftly tug the price below the 20-day EMA ($696). Dogecoin price analysis Dogecoin (DOGE) is witnessing a tough battle between the bulls and the bears near the support line of the ascending channel pattern. The flattening 20-day EMA ($0.40) and the RSI near the midpoint do not give a clear advantage either to the bulls or the bears. If the price rises above $0.43, the advantage will tilt in favor of the bulls. The pair may drop to the 50-day SMA ($0.34), which is a crucial level for the bulls to defend. Cardano price analysis Buyers are trying to keep Cardano (ADA) above the 20-day EMA ($1.06), but failing to start a strong rebound increases the risk of a fall. Avalanche price analysis The bears tried to pull Avalanche (AVAX) below the 20-day EMA ($47.80) on Dec. 15, but the bulls held their ground. However, the failure of the bulls to maintain the price above $51 on Dec. 16 has attracted another round of selling. If buyers want to prevent the downside, they will have to quickly push the price back above $51. The pair may rally to $60 and later to $65, where the bears are expected to pose a strong challenge.'"
      ]
     },
     "execution_count": 254,
     "metadata": {},
     "output_type": "execute_result"
    }
   ],
   "source": [
    "summarizer.text_summarize(text).replace(\"\\\\'\", \"'\")"
   ]
  },
  {
   "cell_type": "code",
   "execution_count": null,
   "id": "75e87cbd-0c17-46a2-8158-a26621c458fd",
   "metadata": {},
   "outputs": [],
   "source": []
  }
 ],
 "metadata": {
  "kernelspec": {
   "display_name": "Python 3 (ipykernel)",
   "language": "python",
   "name": "python3"
  },
  "language_info": {
   "codemirror_mode": {
    "name": "ipython",
    "version": 3
   },
   "file_extension": ".py",
   "mimetype": "text/x-python",
   "name": "python",
   "nbconvert_exporter": "python",
   "pygments_lexer": "ipython3",
   "version": "3.12.6"
  },
  "widgets": {
   "application/vnd.jupyter.widget-state+json": {
    "state": {},
    "version_major": 2,
    "version_minor": 0
   }
  }
 },
 "nbformat": 4,
 "nbformat_minor": 5
}
