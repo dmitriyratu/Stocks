{
 "cells": [
  {
   "cell_type": "code",
   "execution_count": 1,
   "id": "a54637d9-56ae-40b4-963f-80cc5fe6a01a",
   "metadata": {},
   "outputs": [],
   "source": [
    "import threading"
   ]
  },
  {
   "cell_type": "code",
   "execution_count": 2,
   "id": "eb9ef125-410a-4f4c-b1ff-800229fd915f",
   "metadata": {},
   "outputs": [
    {
     "data": {
      "text/plain": [
       "6"
      ]
     },
     "execution_count": 2,
     "metadata": {},
     "output_type": "execute_result"
    }
   ],
   "source": [
    "threading.active_count()"
   ]
  },
  {
   "cell_type": "code",
   "execution_count": 83,
   "id": "59dc01b3-389b-4e82-acd0-ba91f6c718f5",
   "metadata": {},
   "outputs": [],
   "source": [
    "content"
   ]
  },
  {
   "cell_type": "code",
   "execution_count": 3,
   "id": "8b0ed887-caa9-4930-8fca-c8ca01eefbc5",
   "metadata": {},
   "outputs": [],
   "source": [
    "from collect.utils.utils_url_scraper import PowerScraper"
   ]
  },
  {
   "cell_type": "code",
   "execution_count": 22,
   "id": "e4b3c6d2-8985-4c09-a318-702e6b57dee7",
   "metadata": {},
   "outputs": [],
   "source": [
    "url = 'https://decrypt.co/298231/bitcoin-tumble-triggered-1-4-billion-in-liquidations'"
   ]
  },
  {
   "cell_type": "code",
   "execution_count": 26,
   "id": "00920773-6443-4bfd-b78f-3ca8c352b936",
   "metadata": {},
   "outputs": [
    {
     "data": {
      "text/plain": [
       "ScrapingResult(news_url='https://decrypt.co/298231/bitcoin-tumble-triggered-1-4-billion-in-liquidations', full_text=\"Rough total liquidations on Coinglass for the past 3 weeks is almost $10billion (from Cex's)\\nI remember Cat saying on December 9/10th that the total real liquidations were more like $10billion, 1/10th of real numbers.\\nIf that's correct then we have probably seen the largest liq‚Ä¶ pic.twitter.com/fZkR7YiG16\\n‚Äî Pat (@PattaTrades) December 20, 2024\\nCoin Prices\\n$92,402.00\\n-0.76%$3,338.17\\n0.06%$2.07\\n-0.96%$699.25\\n1.17%$190.47\\n0.40%$0.312743\\n-0.08%$1.001\\n0.13%$3,329.82\\n0.02%$0.855419\\n0.11%$0.252295\\n-1.98%$36.03\\n0.96%$5.57\\n-0.40%$3,971.31\\n-0.42%$20.53\\n-1.56%$0.00002106\\n-1.67%$4.17\\n2.92%$92,269.00\\n-1.07%$0.279009\\n0.83%$6.68\\n-2.47%$0.332472\\n-1.54%$3,337.61\\n-0.00%$26.81\\n-0.88%$6.29\\n-0.90%$442.95\\n1.15%$9.04\\n-0.00%$13.20\\n2.46%$0.00001804\\n1.50%$98.98\\n1.63%$3,547.01\\n0.72%$0.998601\\n0.15%$5.04\\n-1.26%$1.003\\n0.32%$8.85\\n0.15%$325.35\\n-0.85%$9.99\\n-0.73%$1.20\\n0.49%$0.460628\\n-0.71%$0.140855\\n-1.37%$25.35\\n-0.28%$0.04383228\\n-2.63%$24.55\\n-0.44%$3.53\\n-3.20%$6.83\\n0.46%$189.08\\n-1.29%$1.28\\n-0.67%$451.15\\n-0.72%$3.42\\n-7.07%$0.729976\\n-1.84%$4.91\\n-0.39%$49.79\\n0.64%$0.115769\\n0.51%$0.962249\\n4.84%$0.334535\\n3.62%$6.34\\n1.22%$1.83\\n1.63%$29.85\\n-10.84%$2.32\\n0.36%$0.00003075\\n0.00%$1.35\\n0.32%$1.49\\n-4.86%$4.75\\n0.62%$1.001\\n0.22%$0.925798\\n-4.23%$3,339.85\\n0.02%$15.84\\n0.51%$1.37\\n-1.45%$0.703249\\n-9.49%$0.03087609\\n-2.90%$19.94\\n-0.99%$0.203813\\n-0.49%$1.84\\n0.79%$1.66\\n44.48%$1.001\\n0.08%$3,745.22\\n-0.03%$2.07\\n-2.12%$0.401828\\n-1.92%$0.00017267\\n0.85%$3,445.00\\n0.06%$1.85\\n5.60%$92,055.00\\n-1.31%$0.03237758\\n-2.50%$107.45\\n-5.37%$4.53\\n-0.29%$3,508.29\\n-0.09%$92,575.00\\n-0.97%$3.42\\n1.26%$0.03441128\\n-0.64%$4.88\\n0.02%$1.37\\n1.13%$0.02514963\\n-0.67%$0.02580972\\n-0.50%$1,492.26\\n-0.19%$0.545819\\n-0.51%$0.361498\\n-2.73%$10.73\\n-4.05%$1.27\\n-5.25%$195.02\\n0.51%$92,358.00\\n-0.95%$0.118557\\n-3.55%$0.772699\\n-0.43%$0.926987\\n-0.26%$0.198516\\n0.09%$3,425.45\\n-0.29%$33.40\\n1.85%$0.710278\\n1.18%$16.64\\n3.39%$0.805412\\n0.58%$1.50\\n1.16%$0.469959\\n-1.20%$5.99\\n-7.73%$236.51\\n-0.35%$0.069602\\n-2.42%$0.288967\\n-0.94%$52.00\\n-0.10%$1.41\\n-4.92%$0.00000105\\n-2.99%$13.90\\n-0.04%$6.22\\n-0.87%$1.046\\n-3.23%$34.18\\n0.39%$57.51\\n-4.87%$3.27\\n0.85%$92,297.00\\n-0.53%$0.788316\\n-2.41%$0.477853\\n-0.62%$0.458733\\n-1.01%$0.877143\\n5.75%$1.21\\n1.28%$15.12\\n16.10%$699.25\\n1.01%$5.12\\n-1.62%$3,330.88\\n0.06%$0.291825\\n2.66%$0.00000209\\n0.00%$0.864019\\n-4.53%$92,408.00\\n-0.64%$3,342.92\\n0.24%$3.66\\n10.80%$0.08369\\n-0.00%$0.996198\\n-0.07%$0.764768\\n5.87%$0.157637\\n0.47%$3,342.35\\n0.21%$0.01352469\\n-6.13%$202.71\\n0.05%$2.51\\n0.14%$272.62\\n-0.66%$0.191529\\n0.14%$0.584986\\n-0.70%$2.84\\n-1.28%$1.85\\n-1.75%$13.37\\n11.05%$0.312397\\n-0.31%$0.00003388\\n-1.50%$75.66\\n-1.42%$1.98\\n-0.97%$1.50\\n1.24%$0.669145\\n13.24%$0.996309\\n0.18%$3,510.52\\n-0.10%$2,608.82\\n-0.52%$0.00763975\\n-1.05%$92,714.00\\n-0.02%$0.00620576\\n-0.33%$0.00916756\\n-1.61%$0.065625\\n-7.30%$1.39\\n-4.32%$1.026\\n0.29%$0.671465\\n-3.70%$0.000108\\n-1.53%$0.00653223\\n3.75%$0.00575368\\n-3.11%$0.085427\\n-3.82%$3,617.66\\n-0.02%$5.12\\n-1.92%$1.002\\n0.25%$26.66\\n2.08%$2.28\\n-0.57%$15.10\\n-5.12%$0.079254\\n0.77%$0.390238\\n0.28%$33.95\\n-1.50%$0.539281\\n6.42%$0.534305\\n39.43%$2,626.56\\n-0.77%$16.94\\n-11.36%$0.00000052\\n-1.89%$0.247247\\n0.28%$0.01128957\\n-1.82%$0.993246\\n-3.73%$0.51359\\n-7.34%$0.997081\\n0.24%$0.00\\n-0.63%$92,396.00\\n-0.70%$1.026\\n0.07%$3,374.51\\n1.44%$1.002\\n0.40%$0.457878\\n-1.14%$91,875.00\\n0.35%$1.16\\n0.61%$3,329.79\\n-0.27%$1.43\\n-1.56%$38.70\\n-2.26%$2.93\\n3.85%$0.460955\\n15.76%$2.09\\n6.30%$0.060865\\n-0.92%$1.073\\n0.15%$1.081\\n-3.37%$27.71\\n-4.66%$3,503.81\\n0.54%$0.064308\\n-0.42%$3,589.87\\n0.10%$0.00580629\\n0.80%$92,029.00\\n-1.20%$0.0062153\\n0.88%$3,325.14\\n-0.33%$0.00237865\\n-0.02%$0.26407\\n-10.67%$0.159259\\n-5.71%$4.15\\n-0.96%$3.18\\n-6.73%$1.086\\n1.04%$0.997346\\n0.38%$0.02078247\\n0.29%$0.00094907\\n4.11%$0.389561\\n-0.78%$0.211976\\n1.03%$0.461948\\n-0.22%$1.001\\n0.10%$4.97\\n0.21%$0.21744\\n-0.19%$4.70\\n-2.84%$0.00488093\\n-4.85%$0.00000018\\n3.16%$0.03744921\\n-2.79%$3,690.87\\n0.01%$82.05\\n0.42%$1.004\\n0.27%$0.908263\\n-5.40%$0.655821\\n0.50%$0.01062981\\n0.25%$2.80\\n-0.40%$0.0380263\\n1.30%$0.358641\\n-0.39%$3.29\\n-0.53%$0.0623\\n-2.08%$0.234445\\n-1.08%\", status_code=200, error=None, success=True, elapsed_time=3.624405000009574)"
      ]
     },
     "execution_count": 26,
     "metadata": {},
     "output_type": "execute_result"
    }
   ],
   "source": [
    "scraper = PowerScraper()\n",
    "output = scraper.scrape_url(url)\n",
    "scraper.cleanup()\n",
    "output"
   ]
  },
  {
   "cell_type": "code",
   "execution_count": null,
   "id": "5ea35da1-a78d-487a-8979-1987a033a503",
   "metadata": {},
   "outputs": [],
   "source": []
  },
  {
   "cell_type": "code",
   "execution_count": null,
   "id": "3ef5f381-4b73-4ad0-a233-5e3e97f1f3be",
   "metadata": {},
   "outputs": [],
   "source": []
  },
  {
   "cell_type": "code",
   "execution_count": 20,
   "id": "0c18e7ee-30ec-4046-9c15-6f4d221fdda8",
   "metadata": {},
   "outputs": [
    {
     "name": "stdout",
     "output_type": "stream",
     "text": [
      "\n",
      "Thread Status at 16:57:11\n",
      "--------------------------------------------------\n",
      "Name: MainThread           ID: 28392  Daemon: False\n",
      "Name: IOPub                ID: 5060   Daemon: True\n",
      "Name: Heartbeat            ID: 19264  Daemon: True\n",
      "Name: Control              ID: 27940  Daemon: True\n",
      "Name: IPythonHistorySavingThread ID: 384    Daemon: True\n",
      "Name: Thread-1             ID: 27592  Daemon: True\n",
      "\n",
      "Total thread count: 6\n"
     ]
    }
   ],
   "source": [
    "import threading\n",
    "from typing import Dict\n",
    "from datetime import datetime\n",
    "\n",
    "def get_running_threads() -> Dict[str, bool]:\n",
    "    \"\"\"\n",
    "    Returns information about all currently running threads.\n",
    "    \n",
    "    Returns:\n",
    "        Dict[str, bool]: Dictionary mapping thread names to their daemon status\n",
    "    \"\"\"\n",
    "    return {\n",
    "        thread.name: thread.daemon \n",
    "        for thread in threading.enumerate()\n",
    "    }\n",
    "\n",
    "def display_thread_info() -> None:\n",
    "    \"\"\"Displays detailed information about currently running threads.\"\"\"\n",
    "    current_time = datetime.now().strftime(\"%H:%M:%S\")\n",
    "    print(f\"\\nThread Status at {current_time}\")\n",
    "    print(\"-\" * 50)\n",
    "    \n",
    "    for thread in threading.enumerate():\n",
    "        print(f\"Name: {thread.name:<20} \"\n",
    "              f\"ID: {thread.ident:<6} \"\n",
    "              f\"Daemon: {thread.daemon}\")\n",
    "    \n",
    "    print(f\"\\nTotal thread count: {threading.active_count()}\")\n",
    "\n",
    "if __name__ == \"__main__\":\n",
    "    display_thread_info()"
   ]
  },
  {
   "cell_type": "code",
   "execution_count": 21,
   "id": "61a390dc-0170-40d1-bdbf-96e197cc7b7a",
   "metadata": {},
   "outputs": [
    {
     "name": "stdout",
     "output_type": "stream",
     "text": [
      "Found 18 Chrome processes:\n",
      "\n",
      "PID: 328\n",
      "Name: chrome.exe\n",
      "Command: C:\\Program Files\\Google\\Chrome\\Application\\chrome.exe --type=renderer --string-annotations=is-enterprise-managed=yes --enable-dinosaur-easter-egg-alt-images --enable-chrome-cart --video-capture-use-gpu-memory-buffer --lang=en-US --device-scale-factor=1.5 --num-raster-threads=4 --enable-main-frame-before-activation --renderer-client-id=7 --time-ticks-at-unix-epoch=-1735440983115508 --launch-time-ticks=153919299998 --field-trial-handle=3544,i,3947458516795598624,4464163105348959738,262144 --variations-seed-version=20241225-174432.450000 --mojo-platform-channel-handle=3560 /prefetch:1\n",
      "\n",
      "PID: 2124\n",
      "Name: chrome.exe\n",
      "Command: C:\\Program Files\\Google\\Chrome\\Application\\chrome.exe --type=crashpad-handler --user-data-dir=C:\\Users\\dmitr\\AppData\\Local\\Google\\Chrome\\User Data /prefetch:4 --monitor-self-annotation=ptype=crashpad-handler --database=C:\\Users\\dmitr\\AppData\\Local\\Google\\Chrome\\User Data\\Crashpad --metrics-dir=C:\\Users\\dmitr\\AppData\\Local\\Google\\Chrome\\User Data --url=https://clients2.google.com/cr/report --annotation=channel= --annotation=plat=Win64 --annotation=prod=Chrome --annotation=ver=131.0.6778.205 --initial-client-data=0x170,0x174,0x178,0x14c,0x17c,0x7ffd0aa7fd08,0x7ffd0aa7fd14,0x7ffd0aa7fd20\n",
      "\n",
      "PID: 5188\n",
      "Name: chrome.exe\n",
      "Command: C:\\Program Files\\Google\\Chrome\\Application\\chrome.exe --type=renderer --string-annotations=is-enterprise-managed=yes --enable-dinosaur-easter-egg-alt-images --enable-chrome-cart --video-capture-use-gpu-memory-buffer --lang=en-US --device-scale-factor=1.5 --num-raster-threads=4 --enable-main-frame-before-activation --renderer-client-id=26 --time-ticks-at-unix-epoch=-1735440983115508 --launch-time-ticks=153931507435 --field-trial-handle=7624,i,3947458516795598624,4464163105348959738,262144 --variations-seed-version=20241225-174432.450000 --mojo-platform-channel-handle=7640 /prefetch:1\n",
      "\n",
      "PID: 5648\n",
      "Name: chrome.exe\n",
      "Command: C:\\Program Files\\Google\\Chrome\\Application\\chrome.exe --type=renderer --string-annotations=is-enterprise-managed=yes --enable-dinosaur-easter-egg-alt-images --enable-chrome-cart --video-capture-use-gpu-memory-buffer --lang=en-US --device-scale-factor=1.5 --num-raster-threads=4 --enable-main-frame-before-activation --renderer-client-id=27 --time-ticks-at-unix-epoch=-1735440983115508 --launch-time-ticks=153931811679 --field-trial-handle=7848,i,3947458516795598624,4464163105348959738,262144 --variations-seed-version=20241225-174432.450000 --mojo-platform-channel-handle=7480 /prefetch:1\n",
      "\n",
      "PID: 6808\n",
      "Name: chrome.exe\n",
      "Command: C:\\Program Files\\Google\\Chrome\\Application\\chrome.exe --type=utility --utility-sub-type=audio.mojom.AudioService --lang=en-US --service-sandbox-type=audio --video-capture-use-gpu-memory-buffer --string-annotations=is-enterprise-managed=yes --field-trial-handle=8188,i,3947458516795598624,4464163105348959738,262144 --variations-seed-version=20241225-174432.450000 --mojo-platform-channel-handle=7132 /prefetch:12\n",
      "\n",
      "PID: 9560\n",
      "Name: chrome.exe\n",
      "Command: C:\\Program Files\\Google\\Chrome\\Application\\chrome.exe --type=utility --utility-sub-type=storage.mojom.StorageService --lang=en-US --service-sandbox-type=service --string-annotations=is-enterprise-managed=yes --field-trial-handle=2412,i,3947458516795598624,4464163105348959738,262144 --variations-seed-version=20241225-174432.450000 --mojo-platform-channel-handle=2212 /prefetch:13\n",
      "\n",
      "PID: 10532\n",
      "Name: chrome.exe\n",
      "Command: C:\\Program Files\\Google\\Chrome\\Application\\chrome.exe --type=utility --utility-sub-type=video_capture.mojom.VideoCaptureService --lang=en-US --service-sandbox-type=none --video-capture-use-gpu-memory-buffer --string-annotations=is-enterprise-managed=yes --field-trial-handle=4236,i,3947458516795598624,4464163105348959738,262144 --variations-seed-version=20241225-174432.450000 --mojo-platform-channel-handle=8600 /prefetch:14\n",
      "\n",
      "PID: 11048\n",
      "Name: chrome.exe\n",
      "Command: C:\\Program Files\\Google\\Chrome\\Application\\chrome.exe --single-argument C:\\Users\\dmitr\\AppData\\Roaming\\jupyter\\runtime\\jpserver-6064-open.html\n",
      "\n",
      "PID: 19892\n",
      "Name: chrome.exe\n",
      "Command: C:\\Program Files\\Google\\Chrome\\Application\\chrome.exe --type=renderer --string-annotations=is-enterprise-managed=yes --enable-dinosaur-easter-egg-alt-images --enable-chrome-cart --video-capture-use-gpu-memory-buffer --lang=en-US --device-scale-factor=1.5 --num-raster-threads=4 --enable-main-frame-before-activation --renderer-client-id=67 --time-ticks-at-unix-epoch=-1735440983115508 --launch-time-ticks=154818273943 --field-trial-handle=6248,i,3947458516795598624,4464163105348959738,262144 --variations-seed-version=20241225-174432.450000 --mojo-platform-channel-handle=9360 /prefetch:1\n",
      "\n",
      "PID: 21532\n",
      "Name: chrome.exe\n",
      "Command: C:\\Program Files\\Google\\Chrome\\Application\\chrome.exe --type=renderer --string-annotations=is-enterprise-managed=yes --enable-dinosaur-easter-egg-alt-images --enable-chrome-cart --video-capture-use-gpu-memory-buffer --lang=en-US --device-scale-factor=1.5 --num-raster-threads=4 --enable-main-frame-before-activation --renderer-client-id=20 --time-ticks-at-unix-epoch=-1735440983115508 --launch-time-ticks=153929360413 --field-trial-handle=7084,i,3947458516795598624,4464163105348959738,262144 --variations-seed-version=20241225-174432.450000 --mojo-platform-channel-handle=7424 /prefetch:1\n",
      "\n",
      "PID: 22016\n",
      "Name: chrome.exe\n",
      "Command: C:\\Program Files\\Google\\Chrome\\Application\\chrome.exe --type=renderer --string-annotations=is-enterprise-managed=yes --extension-process --enable-dinosaur-easter-egg-alt-images --enable-chrome-cart --video-capture-use-gpu-memory-buffer --lang=en-US --device-scale-factor=1.5 --num-raster-threads=4 --enable-main-frame-before-activation --renderer-client-id=9 --time-ticks-at-unix-epoch=-1735440983115508 --launch-time-ticks=153919353805 --field-trial-handle=4148,i,3947458516795598624,4464163105348959738,262144 --variations-seed-version=20241225-174432.450000 --mojo-platform-channel-handle=4168 /prefetch:9\n",
      "\n",
      "PID: 22212\n",
      "Name: chrome.exe\n",
      "Command: C:\\Program Files\\Google\\Chrome\\Application\\chrome.exe --type=renderer --string-annotations=is-enterprise-managed=yes --extension-process --enable-dinosaur-easter-egg-alt-images --enable-chrome-cart --video-capture-use-gpu-memory-buffer --lang=en-US --device-scale-factor=1.5 --num-raster-threads=4 --enable-main-frame-before-activation --renderer-client-id=11 --time-ticks-at-unix-epoch=-1735440983115508 --launch-time-ticks=153919561775 --field-trial-handle=3000,i,3947458516795598624,4464163105348959738,262144 --variations-seed-version=20241225-174432.450000 --mojo-platform-channel-handle=5524 /prefetch:9\n",
      "\n",
      "PID: 22684\n",
      "Name: chrome.exe\n",
      "Command: C:\\Program Files\\Google\\Chrome\\Application\\chrome.exe --type=renderer --string-annotations=is-enterprise-managed=yes --extension-process --enable-dinosaur-easter-egg-alt-images --enable-chrome-cart --video-capture-use-gpu-memory-buffer --lang=en-US --device-scale-factor=1.5 --num-raster-threads=4 --enable-main-frame-before-activation --renderer-client-id=5 --time-ticks-at-unix-epoch=-1735440983115508 --launch-time-ticks=153919378889 --field-trial-handle=4628,i,3947458516795598624,4464163105348959738,262144 --variations-seed-version=20241225-174432.450000 --mojo-platform-channel-handle=4644 /prefetch:9\n",
      "\n",
      "PID: 25856\n",
      "Name: chrome.exe\n",
      "Command: C:\\Program Files\\Google\\Chrome\\Application\\chrome.exe --type=renderer --string-annotations=is-enterprise-managed=yes --extension-process --enable-dinosaur-easter-egg-alt-images --enable-chrome-cart --video-capture-use-gpu-memory-buffer --lang=en-US --device-scale-factor=1.5 --num-raster-threads=4 --enable-main-frame-before-activation --renderer-client-id=8 --time-ticks-at-unix-epoch=-1735440983115508 --launch-time-ticks=153919351640 --field-trial-handle=4068,i,3947458516795598624,4464163105348959738,262144 --variations-seed-version=20241225-174432.450000 --mojo-platform-channel-handle=4092 /prefetch:9\n",
      "\n",
      "PID: 26256\n",
      "Name: chrome.exe\n",
      "Command: C:\\Program Files\\Google\\Chrome\\Application\\chrome.exe --type=utility --utility-sub-type=network.mojom.NetworkService --lang=en-US --service-sandbox-type=none --string-annotations=is-enterprise-managed=yes --field-trial-handle=2236,i,3947458516795598624,4464163105348959738,262144 --variations-seed-version=20241225-174432.450000 --mojo-platform-channel-handle=2336 /prefetch:11\n",
      "\n",
      "PID: 27340\n",
      "Name: chrome.exe\n",
      "Command: C:\\Program Files\\Google\\Chrome\\Application\\chrome.exe --type=gpu-process --string-annotations=is-enterprise-managed=yes --gpu-preferences=UAAAAAAAAADgAAAEAAAAAAAAAAAAAAAAAABgAAEAAAAAAAAAAAAAAAAAAAACAAAAAAAAAAAAAAAAAAAAAAAAABAAAAAAAAAAEAAAAAAAAAAIAAAAAAAAAAgAAAAAAAAA --field-trial-handle=2016,i,3947458516795598624,4464163105348959738,262144 --variations-seed-version=20241225-174432.450000 --mojo-platform-channel-handle=2000 /prefetch:2\n",
      "\n",
      "PID: 27352\n",
      "Name: chrome.exe\n",
      "Command: C:\\Program Files\\Google\\Chrome\\Application\\chrome.exe --type=renderer --string-annotations=is-enterprise-managed=yes --enable-dinosaur-easter-egg-alt-images --enable-chrome-cart --video-capture-use-gpu-memory-buffer --lang=en-US --device-scale-factor=1.5 --num-raster-threads=4 --enable-main-frame-before-activation --renderer-client-id=25 --time-ticks-at-unix-epoch=-1735440983115508 --launch-time-ticks=153927257532 --field-trial-handle=7236,i,3947458516795598624,4464163105348959738,262144 --variations-seed-version=20241225-174432.450000 --mojo-platform-channel-handle=7416 /prefetch:1\n",
      "\n",
      "PID: 27560\n",
      "Name: chrome.exe\n",
      "Command: C:\\Program Files\\Google\\Chrome\\Application\\chrome.exe --type=renderer --string-annotations=is-enterprise-managed=yes --extension-process --enable-dinosaur-easter-egg-alt-images --enable-chrome-cart --video-capture-use-gpu-memory-buffer --lang=en-US --device-scale-factor=1.5 --num-raster-threads=4 --enable-main-frame-before-activation --renderer-client-id=68 --time-ticks-at-unix-epoch=-1735440983115508 --launch-time-ticks=154911173412 --field-trial-handle=9212,i,3947458516795598624,4464163105348959738,262144 --variations-seed-version=20241225-174432.450000 --mojo-platform-channel-handle=9092 /prefetch:9\n"
     ]
    }
   ],
   "source": [
    "import psutil\n",
    "\n",
    "def find_chrome_processes():\n",
    "    chrome_processes = []\n",
    "    for proc in psutil.process_iter(['pid', 'name', 'cmdline']):\n",
    "        try:\n",
    "            # Check for both Chrome and Chromium processes\n",
    "            if 'chrome' in proc.info['name'].lower():\n",
    "                chrome_processes.append({\n",
    "                    'pid': proc.info['pid'],\n",
    "                    'name': proc.info['name'],\n",
    "                    'cmdline': proc.info['cmdline']\n",
    "                })\n",
    "        except (psutil.NoSuchProcess, psutil.AccessDenied):\n",
    "            pass\n",
    "    return chrome_processes\n",
    "\n",
    "if __name__ == \"__main__\":\n",
    "    processes = find_chrome_processes()\n",
    "    if processes:\n",
    "        print(f\"Found {len(processes)} Chrome processes:\")\n",
    "        for proc in processes:\n",
    "            print(f\"\\nPID: {proc['pid']}\")\n",
    "            print(f\"Name: {proc['name']}\")\n",
    "            print(\"Command: \" + ' '.join(proc['cmdline']) if proc['cmdline'] else 'N/A')\n",
    "    else:\n",
    "        print(\"No Chrome processes found\")"
   ]
  },
  {
   "cell_type": "code",
   "execution_count": null,
   "id": "ebbb7692-6766-42d8-8ed6-e2492ed7816f",
   "metadata": {},
   "outputs": [],
   "source": []
  }
 ],
 "metadata": {
  "kernelspec": {
   "display_name": "Python 3 (ipykernel)",
   "language": "python",
   "name": "python3"
  },
  "language_info": {
   "codemirror_mode": {
    "name": "ipython",
    "version": 3
   },
   "file_extension": ".py",
   "mimetype": "text/x-python",
   "name": "python",
   "nbconvert_exporter": "python",
   "pygments_lexer": "ipython3",
   "version": "3.12.6"
  },
  "widgets": {
   "application/vnd.jupyter.widget-state+json": {
    "state": {},
    "version_major": 2,
    "version_minor": 0
   }
  }
 },
 "nbformat": 4,
 "nbformat_minor": 5
}
